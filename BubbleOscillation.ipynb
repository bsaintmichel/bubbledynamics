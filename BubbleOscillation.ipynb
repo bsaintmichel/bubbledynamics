{
 "metadata": {
  "language_info": {
   "codemirror_mode": {
    "name": "ipython",
    "version": 3
   },
   "file_extension": ".py",
   "mimetype": "text/x-python",
   "name": "python",
   "nbconvert_exporter": "python",
   "pygments_lexer": "ipython3",
   "version": "3.8.6-final"
  },
  "orig_nbformat": 2,
  "kernelspec": {
   "name": "python3",
   "display_name": "Python 3.8.6 64-bit",
   "metadata": {
    "interpreter": {
     "hash": "e904f8fb937bbc86a7186a20293fd9afe558f6f1d8b72e36f9025dcce6d7a930"
    }
   }
  }
 },
 "nbformat": 4,
 "nbformat_minor": 2,
 "cells": [
  {
   "source": [
    "# Bubble Oscillations \n",
    "### Brice Saint-Michel, TU Delft\n",
    "(can be reached going for bsaintmichel on gmail)\n",
    "\n",
    "* This program goes and fetches videos to process bubble oscillation data\n",
    "* Some formatting is needed to get the correct metadata for the experiments \n",
    "(i.e. include frequency, number of cycles, voltage and gain)\n",
    "* Other than that most of the processing is automatic\n",
    "* As the PFV software has changed during experiments I will try to keep compability with \n",
    "both versions of the .cih (or .cihx) files\n",
    "\n",
    "Wish me luck"
   ],
   "cell_type": "markdown",
   "metadata": {}
  },
  {
   "cell_type": "code",
   "execution_count": 114,
   "metadata": {},
   "outputs": [],
   "source": [
    "main_folder = 'G:\\\\Data\\\\Bubble Oscillation\\\\20210125\\\\'\n",
    "exp_folder  = 'Bubble'\n",
    "filetypes = ('.avi', '.mp4')\n",
    "show_pics = False # Displays live data processing (for monitoring)\n",
    "reprocess = False # Does nothing if a saved data file is already present"
   ]
  },
  {
   "source": [
    "### Here, we define the functions that will look into the metadata (string file + .cih file)\n",
    "### of the experiment"
   ],
   "cell_type": "markdown",
   "metadata": {}
  },
  {
   "cell_type": "code",
   "execution_count": 120,
   "metadata": {},
   "outputs": [
    {
     "output_type": "error",
     "ename": "AttributeError",
     "evalue": "'list' object has no attribute 'empty'",
     "traceback": [
      "\u001b[1;31m---------------------------------------------------------------------------\u001b[0m",
      "\u001b[1;31mAttributeError\u001b[0m                            Traceback (most recent call last)",
      "\u001b[1;32m<ipython-input-120-ee52ce028d6b>\u001b[0m in \u001b[0;36m<module>\u001b[1;34m\u001b[0m\n\u001b[0;32m     72\u001b[0m \u001b[1;33m\u001b[0m\u001b[0m\n\u001b[0;32m     73\u001b[0m \u001b[1;33m\u001b[0m\u001b[0m\n\u001b[1;32m---> 74\u001b[1;33m \u001b[0minfo\u001b[0m \u001b[1;33m=\u001b[0m \u001b[0mparse_name\u001b[0m\u001b[1;33m(\u001b[0m\u001b[0mvidfiles\u001b[0m\u001b[1;33m[\u001b[0m\u001b[1;36m0\u001b[0m\u001b[1;33m]\u001b[0m\u001b[1;33m)\u001b[0m\u001b[1;33m\u001b[0m\u001b[1;33m\u001b[0m\u001b[0m\n\u001b[0m",
      "\u001b[1;32m<ipython-input-120-ee52ce028d6b>\u001b[0m in \u001b[0;36mparse_name\u001b[1;34m(filepath)\u001b[0m\n\u001b[0;32m     27\u001b[0m     \u001b[0mcihmatch\u001b[0m \u001b[1;33m=\u001b[0m \u001b[0mglob\u001b[0m\u001b[1;33m.\u001b[0m\u001b[0mglob\u001b[0m\u001b[1;33m(\u001b[0m\u001b[0minfo\u001b[0m\u001b[1;33m[\u001b[0m\u001b[1;34m'folder'\u001b[0m\u001b[1;33m]\u001b[0m \u001b[1;33m+\u001b[0m \u001b[1;34m'\\\\'\u001b[0m \u001b[1;33m+\u001b[0m \u001b[0minfo\u001b[0m\u001b[1;33m[\u001b[0m\u001b[1;34m'name'\u001b[0m\u001b[1;33m]\u001b[0m\u001b[1;33m.\u001b[0m\u001b[0msplit\u001b[0m\u001b[1;33m(\u001b[0m\u001b[1;34m'.'\u001b[0m\u001b[1;33m)\u001b[0m\u001b[1;33m[\u001b[0m\u001b[1;36m0\u001b[0m\u001b[1;33m]\u001b[0m \u001b[1;33m+\u001b[0m \u001b[1;34m'.cih*'\u001b[0m\u001b[1;33m)\u001b[0m\u001b[1;33m\u001b[0m\u001b[1;33m\u001b[0m\u001b[0m\n\u001b[0;32m     28\u001b[0m \u001b[1;33m\u001b[0m\u001b[0m\n\u001b[1;32m---> 29\u001b[1;33m     \u001b[1;32mif\u001b[0m \u001b[0mcihmatch\u001b[0m\u001b[1;33m.\u001b[0m\u001b[0mempty\u001b[0m\u001b[1;33m(\u001b[0m\u001b[1;33m)\u001b[0m\u001b[1;33m:\u001b[0m\u001b[1;33m\u001b[0m\u001b[1;33m\u001b[0m\u001b[0m\n\u001b[0m\u001b[0;32m     30\u001b[0m         \u001b[0minfo\u001b[0m\u001b[1;33m[\u001b[0m\u001b[1;34m'skip'\u001b[0m\u001b[1;33m]\u001b[0m \u001b[1;33m=\u001b[0m \u001b[1;32mTrue\u001b[0m \u001b[1;31m# There should always be a CIH(X) accompanying file with\u001b[0m\u001b[1;33m\u001b[0m\u001b[1;33m\u001b[0m\u001b[0m\n\u001b[0;32m     31\u001b[0m                             \u001b[1;31m# the video file\u001b[0m\u001b[1;33m\u001b[0m\u001b[1;33m\u001b[0m\u001b[1;33m\u001b[0m\u001b[0m\n",
      "\u001b[1;31mAttributeError\u001b[0m: 'list' object has no attribute 'empty'"
     ]
    }
   ],
   "source": [
    "import glob, re\n",
    "vidfiles = (glob.glob(main_folder + '/**/*.avi', recursive=True) + \n",
    "            glob.glob(main_folder + '/**/*.mp4', recursive=True))\n",
    "\n",
    "def parse_name(filepath):\n",
    "    splits = filepath.rsplit('\\\\', 1)\n",
    "    filename = splits[1]\n",
    "    info = {'folder':splits[0], 'name':splits[1], 'ncyc':100, 'volt':00,\n",
    "            'gain':0, 'numexp':0}\n",
    "        # I am using default values here, they will be overwritten\n",
    "        # by the program\n",
    "\n",
    "    voltmatch = re.findall('(\\d*)mV', filename)\n",
    "    gainmatch = re.findall('(\\d*)pc', filename)\n",
    "    cycmatch = re.findall('(\\d*)cyc', filename)\n",
    "    numexpmatch = re.findall('_(\\d*)[\\W]', filename)\n",
    "    \n",
    "    if voltmatch:\n",
    "        info['volt'] = int(voltmatch[0])\n",
    "    if gainmatch: \n",
    "        info['gain'] = int(gainmatch[0])\n",
    "    if cycmatch:\n",
    "        info['cyc'] = int(cycmatch[0])\n",
    "    if numexpmatch:\n",
    "        info['numexp'] = int(numexpmatch[0])\n",
    "\n",
    "    # Handling the cih(X) file\n",
    "    cihmatch = glob.glob(info['folder'] + '\\\\' + info['name'].split('.')[0] + '.cih*')\n",
    "    if not cihmatch:\n",
    "        info['skip'] = True # There should always be a CIH(X) accompanying file with the video file\n",
    "    if cihmatch.endswith('.cih'):\n",
    "        info = readcih(cihmatch, info)\n",
    "    elif cihmatch.endswith('.cihx'):\n",
    "        info = readcihX(cihmatch, info)\n",
    "\n",
    "    print(cihmatch)\n",
    "\n",
    "    return info\n",
    "\n",
    "# Reads Metadata file from (old) PFV version\n",
    "# Data usually does NOT contain any info on **magnification** (and hence pixel size) \n",
    "def readcih(cihfilename, info):\n",
    "    cihfile = open(cihfilename)\n",
    "    cihdata = cihfile.read()\n",
    "    cihfile.close()\n",
    "\n",
    "    datematch = re.findall('\\nDate : (\\d+/\\d+/\\d+)', cihdata)\n",
    "    timematch = re.findall('\\nTime : (\\d+:\\d+)', cihdata)\n",
    "    fpsmatch  = re.findall('\\nRecord Rate\\(fps\\) : (\\d+)', cihdata)\n",
    "    shuttermatch = re.findall('Shutter Spped\\(s\\) : (1/\\d+)', cihdata)\n",
    "    frame0match = re.findall('Start Frame : (\\d+)', cihdata)\n",
    "    nframesmatch = re.findall('\\nTotal Frame : (\\d+)', cihdata)\n",
    "    decimmatch = re.findall('Save Step : (\\d+)', cihdata)\n",
    "    vidheightmatch = re.findall('Image Height : (\\d+)', cihdata)\n",
    "    vidwidthmatch = re.findall('Image Width : (\\d+)', cihdata)\n",
    "    \n",
    "    if datematch: info['date'] = datematch[0]\n",
    "    if timematch: info['time'] = timematch[0]\n",
    "    if fpsmatch: info['fps'] = int(fpsmatch[0])\n",
    "    if frame0match: info['frame0'] = int(frame0match[0])\n",
    "    if nframesmatch: info['nframes'] = int(nframesmatch[0])\n",
    "    if decimmatch: info['decim'] = int(decimmatch[0])\n",
    "    info['fps'] = info['fps']/info['decim'] # Account for decimation\n",
    "    \n",
    "    return info\n",
    "\n",
    "# Reads Metadata file from (old) PFV version\n",
    "# In that case I have usually specified metadata \n",
    "def readcihX(cihfilename, info):\n",
    "    return 0\n",
    "\n",
    "\n",
    "info = parse_name(vidfiles[0])\n"
   ]
  },
  {
   "cell_type": "code",
   "execution_count": 113,
   "metadata": {},
   "outputs": [
    {
     "output_type": "execute_result",
     "data": {
      "text/plain": [
       "['G:\\\\Data\\\\Bubble Oscillation\\\\20190815\\\\Bubble1\\\\100mV_20pc_21p5khz_02.cih']"
      ]
     },
     "metadata": {},
     "execution_count": 113
    }
   ],
   "source": [
    "glob.glob(info['folder'] + '\\\\' + info['name'].split('.')[0] + '.cih*')"
   ]
  },
  {
   "cell_type": "code",
   "execution_count": 111,
   "metadata": {},
   "outputs": [
    {
     "output_type": "execute_result",
     "data": {
      "text/plain": [
       "'G:\\\\Data\\\\Bubble Oscillation\\\\20190815\\\\Bubble1100mV_20pc_21p5khz_02.cih*'"
      ]
     },
     "metadata": {},
     "execution_count": 111
    }
   ],
   "source": [
    "info['folder'] + info['name'].split('.')[0] + '.cih*'"
   ]
  },
  {
   "cell_type": "code",
   "execution_count": null,
   "metadata": {},
   "outputs": [],
   "source": []
  }
 ]
}